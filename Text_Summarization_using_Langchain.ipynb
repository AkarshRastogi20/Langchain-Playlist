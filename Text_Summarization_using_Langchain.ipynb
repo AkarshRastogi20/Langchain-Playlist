{
  "nbformat": 4,
  "nbformat_minor": 0,
  "metadata": {
    "colab": {
      "provenance": []
    },
    "kernelspec": {
      "name": "python3",
      "display_name": "Python 3"
    },
    "language_info": {
      "name": "python"
    }
  },
  "cells": [
    {
      "cell_type": "code",
      "execution_count": null,
      "metadata": {
        "id": "sVCNEwFZ-ZXd"
      },
      "outputs": [],
      "source": [
        "import os\n",
        "open_api_key='Provide open_api_key'\n",
        "os.environ['OPENAI_API_KEY']=open_api_key"
      ]
    },
    {
      "cell_type": "code",
      "source": [
        "# Basic prompt summarization\n",
        "\n",
        "from langchain.chat_models import ChatOpenAI\n",
        "from langchain.schema import (\n",
        "    AIMessage,\n",
        "    HumanMessage,\n",
        "    SystemMessage\n",
        ")"
      ],
      "metadata": {
        "id": "0IfOq4i6_uZG"
      },
      "execution_count": null,
      "outputs": []
    },
    {
      "cell_type": "code",
      "source": [
        "speech='''Today, as we gather to reflect on our journey and look towards the future, I am filled with immense pride and gratitude for the progress we have made together.Our nation, rich in history and diverse in culture, stands as a beacon of hope and resilience.'''"
      ],
      "metadata": {
        "id": "U-sGthpiA5QS"
      },
      "execution_count": null,
      "outputs": []
    },
    {
      "cell_type": "code",
      "source": [
        "# This is the 1st type of text summarization technique\n",
        "chat_messages=[\n",
        "    SystemMessage(content=\"You are an expert assistant with expertize in summarization speeches\"),\n",
        "    HumanMessage(content=\"Please provide and short and concise summary of the following speech\")\n",
        "]\n",
        "\n",
        "llm=ChatOpenAI(model_name='gpt-3.5-turbo')"
      ],
      "metadata": {
        "id": "CRWQl4FrBrYT"
      },
      "execution_count": null,
      "outputs": []
    },
    {
      "cell_type": "code",
      "source": [
        "# total tokens\n",
        "llm.get_num_tokens(speech)"
      ],
      "metadata": {
        "id": "QvIh0RoWDJqy"
      },
      "execution_count": null,
      "outputs": []
    },
    {
      "cell_type": "code",
      "source": [
        "# get summary\n",
        "print(llm(chat_messages).content)"
      ],
      "metadata": {
        "id": "QD3RTjOPKvN_"
      },
      "execution_count": null,
      "outputs": []
    },
    {
      "cell_type": "markdown",
      "source": [
        "**Prompt templates for text summarization**"
      ],
      "metadata": {
        "id": "5G8hi3CxMQit"
      }
    },
    {
      "cell_type": "code",
      "source": [
        "from langchain.chains import LLMChain\n",
        "from langchain.prompts import PromptTemplate"
      ],
      "metadata": {
        "id": "dnsp3OxgLLlY"
      },
      "execution_count": null,
      "outputs": []
    },
    {
      "cell_type": "code",
      "source": [
        "generic_template='''\n",
        "Write the summary of the following speech:\n",
        "Speech:{speech}\n",
        "Translate the precise summary to {language}\n",
        "'''\n",
        "\n",
        "\n",
        "prompt=PromptTemplate(\n",
        "    input_variables=['speech','language'],\n",
        "    template=generic_template\n",
        ")"
      ],
      "metadata": {
        "id": "uNqFbxEpMl-n"
      },
      "execution_count": null,
      "outputs": []
    },
    {
      "cell_type": "code",
      "source": [
        "complete_prompt=prompt.format(speech=speech,language='Hindi')"
      ],
      "metadata": {
        "id": "8NYCNJSJNtV5"
      },
      "execution_count": null,
      "outputs": []
    },
    {
      "cell_type": "code",
      "source": [
        "llm.get_num_tokens(complete_prompt)"
      ],
      "metadata": {
        "id": "JHRD_B43OY-Q"
      },
      "execution_count": null,
      "outputs": []
    },
    {
      "cell_type": "code",
      "source": [
        "llm_chain=LLMChain(llm=llm,prompt=prompt)\n",
        "summary=llm_chain.run(speech=speech,language='Hindi')"
      ],
      "metadata": {
        "id": "6d9UDks8OhXW"
      },
      "execution_count": null,
      "outputs": []
    },
    {
      "cell_type": "code",
      "source": [
        "summary"
      ],
      "metadata": {
        "id": "GKDeB15ZPBAz"
      },
      "execution_count": null,
      "outputs": []
    },
    {
      "cell_type": "markdown",
      "source": [
        "**StuffDocumentChain text summarization**"
      ],
      "metadata": {
        "id": "ZCpawQhSPQ47"
      }
    },
    {
      "cell_type": "code",
      "source": [
        "from PyPDF2 import PDFReader"
      ],
      "metadata": {
        "id": "PakxCiYrPPzr"
      },
      "execution_count": null,
      "outputs": []
    },
    {
      "cell_type": "code",
      "source": [
        "# provide the path of pdf files\n",
        "\n",
        "pdfreader=PDFReader('apjspeech.pdf')"
      ],
      "metadata": {
        "id": "AjwzJAE8P5jc"
      },
      "execution_count": null,
      "outputs": []
    },
    {
      "cell_type": "code",
      "source": [
        "from typing_extensions import Concatenate\n",
        "# read text from pdf\n",
        "text=''\n",
        "for i,page in enumerate(pdfreader.pages):\n",
        "  content=page.extract_text()\n",
        "  if content:\n",
        "      text+=page.extract"
      ],
      "metadata": {
        "id": "KM65mttpQ5kY"
      },
      "execution_count": null,
      "outputs": []
    },
    {
      "cell_type": "code",
      "source": [
        "text"
      ],
      "metadata": {
        "id": "cgz4SJb7UoEB"
      },
      "execution_count": null,
      "outputs": []
    },
    {
      "cell_type": "code",
      "source": [
        "from langchain.docstore.document import Document\n",
        "\n",
        "docs=[Document(page_content=text)] # for converting entire text in the form of the document\n",
        "docs"
      ],
      "metadata": {
        "id": "DxMzi1bzUpHA"
      },
      "execution_count": null,
      "outputs": []
    },
    {
      "cell_type": "code",
      "source": [
        "llm=ChatOpenAI(temperature=0,model_name='gpt-3.5-turbo')"
      ],
      "metadata": {
        "id": "b7KpWNLxVU-v"
      },
      "execution_count": null,
      "outputs": []
    },
    {
      "cell_type": "code",
      "source": [
        "from langchain import PromptTemplate\n",
        "from langchain.chat_models import ChatOpenAI\n",
        "from langchain.load.summarize import load_summarize_chain"
      ],
      "metadata": {
        "id": "PjPPXdRlVylT"
      },
      "execution_count": null,
      "outputs": []
    },
    {
      "cell_type": "code",
      "source": [
        "template='''Write a concise and short summary of the following speech:\n",
        "Speech:{text}\n",
        "'''\n",
        "prompt=PromptTemplate(\n",
        "    input_variables=['text'],\n",
        "    template=template\n",
        ")\n",
        "\n",
        "\n",
        "\n",
        "chain=load_summarize_chain(\n",
        "    llm,\n",
        "    chain_type='stuff',\n",
        "    prompt=prompt,\n",
        "    verbose=False\n",
        ")\n",
        "\n",
        "output_summary=chain.run(docs)\n",
        "output_summary"
      ],
      "metadata": {
        "id": "l-cnIfZeWfXe"
      },
      "execution_count": null,
      "outputs": []
    },
    {
      "cell_type": "markdown",
      "source": [
        "**Summarzing large documents using map reduce**"
      ],
      "metadata": {
        "id": "b-VRgwZ2YGii"
      }
    },
    {
      "cell_type": "code",
      "source": [
        "from langchain.text_splitter import RecursiveCharacterTextSplitter # for splitting text into chuncks\n",
        "\n",
        "\n",
        "# provide the path of the file\n",
        "pdfreader=PDFReader('apjspeech.pdf')\n",
        "from typing_extensions import Concatenate\n",
        "# read text from pdf\n",
        "\n",
        "text=''\n",
        "for i,page in enumerate(pdfreader.pages):\n",
        "  content=page.extract_text()\n",
        "  if content:\n",
        "      text+=page.extract"
      ],
      "metadata": {
        "id": "Ik0sZWbZX3Xz"
      },
      "execution_count": null,
      "outputs": []
    },
    {
      "cell_type": "code",
      "source": [
        "llm=ChatOpenAI(temperature=0,model_name='gpt-3.5-turbo')"
      ],
      "metadata": {
        "id": "Z0qTbh7AZy_M"
      },
      "execution_count": null,
      "outputs": []
    },
    {
      "cell_type": "code",
      "source": [
        "llm.get_num_tokens(text)"
      ],
      "metadata": {
        "id": "-NOlxYcNZ2i7"
      },
      "execution_count": null,
      "outputs": []
    },
    {
      "cell_type": "code",
      "source": [
        "# splitting the text\n",
        "\n",
        "text_splitter=RecursiveCharacterTextSplitter(\n",
        "    chunk_size=1000,\n",
        "    chunk_overlap=100\n",
        ")"
      ],
      "metadata": {
        "id": "0Ss0GshmZ7e0"
      },
      "execution_count": null,
      "outputs": []
    },
    {
      "cell_type": "code",
      "source": [
        "chunks=text_splitter.create_documents([text])"
      ],
      "metadata": {
        "id": "UZaB4oe9aJYD"
      },
      "execution_count": null,
      "outputs": []
    },
    {
      "cell_type": "code",
      "source": [
        "chunks\n",
        "len(chunks)"
      ],
      "metadata": {
        "id": "la8m-WODaYB9"
      },
      "execution_count": null,
      "outputs": []
    },
    {
      "cell_type": "code",
      "source": [
        "chain=load_summarize_chain(\n",
        "    llm,\n",
        "    chain_type='map_reduce',\n",
        "    verbose=False\n",
        ")\n",
        "\n",
        "summary=chain.run(chunks)\n",
        "summary  # this technique is used when we have file with huge data"
      ],
      "metadata": {
        "id": "cVXxl-MObHWr"
      },
      "execution_count": null,
      "outputs": []
    },
    {
      "cell_type": "markdown",
      "source": [
        "**Map reduce with custom prompts**"
      ],
      "metadata": {
        "id": "7KcZVB7obw9I"
      }
    },
    {
      "cell_type": "code",
      "source": [
        "chunks_prompts=\"\"\"\n",
        "Write a concise and short summary of the following speech:\n",
        "Speech:{text}\n",
        "Summary:\n",
        "\"\"\"\n",
        "\n",
        "map_prompt_template=PromptTemplate(\n",
        "    input_variables=['text'],\n",
        "    template=chunks_prompts\n",
        ")"
      ],
      "metadata": {
        "id": "OnLWEzrob4Iw"
      },
      "execution_count": null,
      "outputs": []
    },
    {
      "cell_type": "code",
      "source": [
        "final_combine_prompt=\"\"\"\n",
        "Provide the final summary of the entire speech with these important points.\n",
        "Add a generc Motivational title,\n",
        "Start the precise summary with an introduction and provide the summary\n",
        "in number points of the speech.\n",
        "Speech:{text}\n",
        "\"\"\"\n",
        "\n",
        "final_prompt_template=PromptTemplate(\n",
        "    input_variables=['text'],\n",
        "    template=final_combine_prompt\n",
        ")"
      ],
      "metadata": {
        "id": "bAizQe-0c7eX"
      },
      "execution_count": null,
      "outputs": []
    },
    {
      "cell_type": "code",
      "source": [
        "summary_chain=load_summarize_chain(\n",
        "    llm,\n",
        "    chain_type='map_reduce',\n",
        "    map_prompt=map_prompt_template,\n",
        "    combine_prompt=final_prompt_template,\n",
        "    verbose=False\n",
        ")\n",
        "\n",
        "output=summary_chain.run(chunks)\n",
        "output"
      ],
      "metadata": {
        "id": "axeEGzp6d-h2"
      },
      "execution_count": null,
      "outputs": []
    }
  ]
}